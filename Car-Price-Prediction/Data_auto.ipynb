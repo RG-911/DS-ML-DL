{
 "cells": [
  {
   "cell_type": "code",
   "execution_count": 9,
   "metadata": {},
   "outputs": [],
   "source": [
    "from bs4 import BeautifulSoup\n",
    "from requests import get\n",
    "import pandas as pd"
   ]
  },
  {
   "cell_type": "code",
   "execution_count": 10,
   "metadata": {
    "scrolled": true
   },
   "outputs": [],
   "source": [
    "headers = ({'User-Agent':\n",
    "            'Mozilla/5.0 (Macintosh; Intel Mac OS X 10_11_6) AppleWebKit\\\n",
    "            /537.36 (KHTML, like Gecko) Chrome/56.0.2924.87 Safari/537.36'})\n",
    "data_list = []\n",
    "for page in range(1,21):\n",
    "    base_url = [\"https://www.autoscout24.de/lst/?sort=standard&desc=0&offer=N%2CU&fuel=B%2CD&ustate=N%2CU&size=20&page=\" +str(page) + \"&cy=D&kmto=100000&fregfrom=2010&body=1&atype=C&fc=24&qry=&\",\n",
    "                \"https://www.autoscout24.de/lst/?sort=standard&desc=0&offer=N%2CU&fuel=B%2CD&ustate=N%2CU&size=20&page=\" +str(page) + \"&cy=D&kmto=100000&fregfrom=2010&body=&atype=C&fc=24&qry=&\",\n",
    "                \"https://www.autoscout24.de/lst/?sort=standard&desc=0&offer=N%2CU&fuel=B%2CD&ustate=N%2CU&size=20&page=\" +str(page) + \"&cy=D&kmto=100000&fregfrom=2010&body=3&atype=C&fc=24&qry=&\",\n",
    "                \"https://www.autoscout24.de/lst/?sort=standard&desc=0&offer=N%2CU&fuel=B%2CD&ustate=N%2CU&size=20&page=\" +str(page) + \"&cy=D&kmto=100000&fregfrom=2010&body=4&atype=C&fc=24&qry=&\",\n",
    "                \"https://www.autoscout24.de/lst/?sort=standard&desc=0&offer=N%2CU&fuel=B%2CD&ustate=N%2CU&size=20&page=\" +str(page) + \"&cy=D&kmto=100000&fregfrom=2010&body=5&atype=C&fc=24&qry=&\",\n",
    "                \"https://www.autoscout24.de/lst/?sort=standard&desc=0&offer=N%2CU&fuel=B%2CD&ustate=N%2CU&size=20&page=\" +str(page) + \"&cy=D&kmto=100000&fregfrom=2010&body=6&atype=C&fc=24&qry=&\",\n",
    "                \"https://www.autoscout24.de/lst/?sort=standard&desc=0&offer=N%2CU&fuel=B%2CD&ustate=N%2CU&size=20&page=\" +str(page) + \"&cy=D&kmto=100000&fregfrom=2010&body=12&atype=C&fc=24&qry=&\"\n",
    "               ]\n",
    "    for idx in range(len(base_url)):\n",
    "        response = get(base_url[idx],headers=headers)\n",
    "        #print(response)\n",
    "        html = response.text\n",
    "        soup = BeautifulSoup(html, 'html.parser')\n",
    "        data_list.append(soup.find_all('div', attrs={'class': 'cldt-summary-full-item-main'}))\n",
    "#print(data_list)"
   ]
  },
  {
   "cell_type": "code",
   "execution_count": 59,
   "metadata": {
    "scrolled": true
   },
   "outputs": [],
   "source": [
    "model_info = []\n",
    "price_info = []\n",
    "general_info = []\n",
    "for item in data_list:\n",
    "    for auto in item:\n",
    "        model_info.append(auto.find_all('div', attrs={'class': 'cldt-summary-title'}))\n",
    "        price_info.append(auto.find_all('div', attrs={'class': 'cldt-summary-payment'}))\n",
    "        general_info.append(auto.find_all('div', attrs={'class': 'cldt-summary-vehicle-data'}))\n",
    "\n",
    "#print(len(model_info))\n",
    "#print(len(price_info))\n",
    "#print(len(general_info))\n",
    "#print(model_info)\n",
    "#print(price_info)\n",
    "#print(general_info)"
   ]
  },
  {
   "cell_type": "code",
   "execution_count": 67,
   "metadata": {},
   "outputs": [],
   "source": [
    "def convert_list_to_string(org_list, seperator=' '):\n",
    "    \"\"\" Convert list to string, by joining all item in list with given separator.\n",
    "        Returns the concatenated string \"\"\"\n",
    "    return seperator.join(org_list)"
   ]
  },
  {
   "cell_type": "code",
   "execution_count": 68,
   "metadata": {
    "scrolled": true
   },
   "outputs": [],
   "source": [
    "brands = []\n",
    "models = []\n",
    "for model in model_info:\n",
    "    for m in model:\n",
    "        md = m.find_all(\"h2\", attrs={'class': \"cldt-summary-makemodel sc-font-bold sc-ellipsis\"})[0].text.strip()\n",
    "        if len(md.split()) >= 3:\n",
    "            if 'Land Rover' in md:\n",
    "                brands.append(\"Land Rover\")\n",
    "                temp = md.split()[1:]\n",
    "                mdl = convert_list_to_string(temp)\n",
    "                models.append(mdl)\n",
    "            else:        \n",
    "                brands.append(md.split()[0])\n",
    "                temp = md.split()[1:]\n",
    "                mdl = convert_list_to_string(temp)\n",
    "                models.append(mdl)\n",
    "            \n",
    "                \n",
    "        \n",
    "        else:\n",
    "            brands.append(md.split()[0])\n",
    "            temp = md.split()[1:]\n",
    "            mdl = convert_list_to_string(temp)\n",
    "            models.append(mdl)\n",
    "#print(brands)\n",
    "#print(models)"
   ]
  },
  {
   "cell_type": "code",
   "execution_count": 69,
   "metadata": {},
   "outputs": [],
   "source": [
    "prices = []\n",
    "for price in price_info:\n",
    "    for p in price:\n",
    "        pr = p.find_all(\"span\", attrs={\"class\": \"cldt-price sc-font-xl sc-font-bold\"})[0].text.strip()\n",
    "        prc = pr.split()[1].replace(\"-\",\"\").replace(\",\", \"\").replace(\".\",\"\")\n",
    "        prices.append(float(prc))\n",
    "#print(prices)"
   ]
  },
  {
   "cell_type": "code",
   "execution_count": 70,
   "metadata": {
    "scrolled": true
   },
   "outputs": [],
   "source": [
    "first_reg_year = []\n",
    "milleage = []\n",
    "transmission = []\n",
    "fuel_type = []\n",
    "engine_power = []\n",
    "condition = []\n",
    "        \n",
    "for auto in general_info:\n",
    "    for spec in auto:\n",
    "        prod = spec.find_all('li')[1].text.strip()\n",
    "        first_reg_year.append(prod)\n",
    "                         \n",
    "        ml = spec.find_all('li')[0].text.strip().replace(\".\", \"\").split()[0]\n",
    "        if ml == \"-\":\n",
    "            ml = '100'\n",
    "            milleage.append(ml)\n",
    "            \n",
    "        else:\n",
    "            milleage.append(ml)\n",
    "        \n",
    "        fuel_type.append(spec.find_all('li', attrs={'class': \"summary_item_no_bottom_line\"})[0].text.strip())\n",
    "        transmission.append(spec.find_all('li')[5].text.strip())\n",
    "        condition.append(spec.find_all('li')[3].text.strip())\n",
    "        \n",
    "        enp = spec.find_all('li')[2].text.strip().replace(\"(\",\"\").replace(\")\",\"\").split()[2]\n",
    "        if enp == \"-\":\n",
    "            enp = '100'\n",
    "            engine_power.append(float(enp))\n",
    "            \n",
    "        else:\n",
    "            engine_power.append(float(enp))\n",
    "      \n",
    "#print(fuel_type)\n",
    "#print(prod_year)\n",
    "#print(milleage)\n",
    "#print(engine_power)\n",
    "#print(transmission)\n",
    "#print(condition)\n"
   ]
  },
  {
   "cell_type": "code",
   "execution_count": 71,
   "metadata": {},
   "outputs": [],
   "source": [
    "data = pd.DataFrame({'Brand': brands, 'Model': models, \"Fuel type\": fuel_type, \"Transmission\": transmission,'Conditon': condition , \"First Registration Year\": first_reg_year, \"Milleage (kms)\":milleage, \"Engine Power (PS)\": engine_power, \"Price (EUR)\":prices})"
   ]
  },
  {
   "cell_type": "code",
   "execution_count": 72,
   "metadata": {},
   "outputs": [
    {
     "name": "stdout",
     "output_type": "stream",
     "text": [
      "<class 'pandas.core.frame.DataFrame'>\n",
      "RangeIndex: 2800 entries, 0 to 2799\n",
      "Data columns (total 9 columns):\n",
      " #   Column                   Non-Null Count  Dtype  \n",
      "---  ------                   --------------  -----  \n",
      " 0   Brand                    2800 non-null   object \n",
      " 1   Model                    2800 non-null   object \n",
      " 2   Fuel type                2800 non-null   object \n",
      " 3   Transmission             2800 non-null   object \n",
      " 4   Conditon                 2800 non-null   object \n",
      " 5   First Registration Year  2800 non-null   object \n",
      " 6   Milleage (kms)           2800 non-null   object \n",
      " 7   Engine Power (PS)        2800 non-null   float64\n",
      " 8   Price (EUR)              2800 non-null   float64\n",
      "dtypes: float64(2), object(7)\n",
      "memory usage: 197.0+ KB\n"
     ]
    }
   ],
   "source": [
    "data.info()"
   ]
  },
  {
   "cell_type": "code",
   "execution_count": 73,
   "metadata": {},
   "outputs": [],
   "source": [
    "for el1 in data['Fuel type']:\n",
    "    if \"1 kWh/100 km (komb)\" in el1:\n",
    "        indeces = data.index[data['Fuel type'] == el1].tolist()\n",
    "        \n",
    "data.drop(indeces, inplace=True)"
   ]
  },
  {
   "cell_type": "code",
   "execution_count": 74,
   "metadata": {},
   "outputs": [],
   "source": [
    "for el3 in data['Transmission']:\n",
    "    if el3 == \"-/- (Getriebeart)\":\n",
    "        ind = data.index[data['Transmission'] == el3].tolist()\n",
    "        \n",
    "data.drop(ind, inplace=True)"
   ]
  },
  {
   "cell_type": "code",
   "execution_count": 75,
   "metadata": {},
   "outputs": [],
   "source": [
    "lst = data.index[data['First Registration Year'] == '-/- (Erstzulassung)'].tolist()\n",
    "for el2 in lst:\n",
    "    data.at[el2, 'First Registration Year'] = '09/2020'"
   ]
  },
  {
   "cell_type": "code",
   "execution_count": 76,
   "metadata": {},
   "outputs": [
    {
     "name": "stdout",
     "output_type": "stream",
     "text": [
      "<class 'pandas.core.frame.DataFrame'>\n",
      "Int64Index: 2780 entries, 0 to 2799\n",
      "Data columns (total 9 columns):\n",
      " #   Column                   Non-Null Count  Dtype  \n",
      "---  ------                   --------------  -----  \n",
      " 0   Brand                    2780 non-null   object \n",
      " 1   Model                    2780 non-null   object \n",
      " 2   Fuel type                2780 non-null   object \n",
      " 3   Transmission             2780 non-null   object \n",
      " 4   Conditon                 2780 non-null   object \n",
      " 5   First Registration Year  2780 non-null   object \n",
      " 6   Milleage (kms)           2780 non-null   object \n",
      " 7   Engine Power (PS)        2780 non-null   float64\n",
      " 8   Price (EUR)              2780 non-null   float64\n",
      "dtypes: float64(2), object(7)\n",
      "memory usage: 297.2+ KB\n"
     ]
    }
   ],
   "source": [
    "data.info()"
   ]
  },
  {
   "cell_type": "code",
   "execution_count": 77,
   "metadata": {},
   "outputs": [
    {
     "data": {
      "text/html": [
       "<div>\n",
       "<style scoped>\n",
       "    .dataframe tbody tr th:only-of-type {\n",
       "        vertical-align: middle;\n",
       "    }\n",
       "\n",
       "    .dataframe tbody tr th {\n",
       "        vertical-align: top;\n",
       "    }\n",
       "\n",
       "    .dataframe thead th {\n",
       "        text-align: right;\n",
       "    }\n",
       "</style>\n",
       "<table border=\"1\" class=\"dataframe\">\n",
       "  <thead>\n",
       "    <tr style=\"text-align: right;\">\n",
       "      <th></th>\n",
       "      <th>Engine Power (PS)</th>\n",
       "      <th>Price (EUR)</th>\n",
       "    </tr>\n",
       "  </thead>\n",
       "  <tbody>\n",
       "    <tr>\n",
       "      <th>count</th>\n",
       "      <td>2780.000000</td>\n",
       "      <td>2780.000000</td>\n",
       "    </tr>\n",
       "    <tr>\n",
       "      <th>mean</th>\n",
       "      <td>127.267986</td>\n",
       "      <td>14027.746763</td>\n",
       "    </tr>\n",
       "    <tr>\n",
       "      <th>std</th>\n",
       "      <td>83.533884</td>\n",
       "      <td>11746.513305</td>\n",
       "    </tr>\n",
       "    <tr>\n",
       "      <th>min</th>\n",
       "      <td>8.000000</td>\n",
       "      <td>2850.000000</td>\n",
       "    </tr>\n",
       "    <tr>\n",
       "      <th>25%</th>\n",
       "      <td>82.000000</td>\n",
       "      <td>7890.000000</td>\n",
       "    </tr>\n",
       "    <tr>\n",
       "      <th>50%</th>\n",
       "      <td>105.000000</td>\n",
       "      <td>10490.000000</td>\n",
       "    </tr>\n",
       "    <tr>\n",
       "      <th>75%</th>\n",
       "      <td>136.000000</td>\n",
       "      <td>13950.000000</td>\n",
       "    </tr>\n",
       "    <tr>\n",
       "      <th>max</th>\n",
       "      <td>717.000000</td>\n",
       "      <td>78899.000000</td>\n",
       "    </tr>\n",
       "  </tbody>\n",
       "</table>\n",
       "</div>"
      ],
      "text/plain": [
       "       Engine Power (PS)   Price (EUR)\n",
       "count        2780.000000   2780.000000\n",
       "mean          127.267986  14027.746763\n",
       "std            83.533884  11746.513305\n",
       "min             8.000000   2850.000000\n",
       "25%            82.000000   7890.000000\n",
       "50%           105.000000  10490.000000\n",
       "75%           136.000000  13950.000000\n",
       "max           717.000000  78899.000000"
      ]
     },
     "execution_count": 77,
     "metadata": {},
     "output_type": "execute_result"
    }
   ],
   "source": [
    "data.describe()"
   ]
  },
  {
   "cell_type": "code",
   "execution_count": 78,
   "metadata": {},
   "outputs": [],
   "source": [
    "data.to_csv('car_data.csv', index=False)"
   ]
  },
  {
   "cell_type": "code",
   "execution_count": null,
   "metadata": {},
   "outputs": [],
   "source": []
  }
 ],
 "metadata": {
  "kernelspec": {
   "display_name": "Python 3",
   "language": "python",
   "name": "python3"
  },
  "language_info": {
   "codemirror_mode": {
    "name": "ipython",
    "version": 3
   },
   "file_extension": ".py",
   "mimetype": "text/x-python",
   "name": "python",
   "nbconvert_exporter": "python",
   "pygments_lexer": "ipython3",
   "version": "3.7.6"
  }
 },
 "nbformat": 4,
 "nbformat_minor": 4
}

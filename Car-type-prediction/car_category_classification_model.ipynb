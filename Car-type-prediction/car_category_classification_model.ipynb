{
 "cells": [
  {
   "cell_type": "code",
   "execution_count": 1,
   "metadata": {},
   "outputs": [],
   "source": [
    "#IMPORT MAIN DATA ANALYSE AND VISUALISATION LIBRARIES"
   ]
  },
  {
   "cell_type": "code",
   "execution_count": 2,
   "metadata": {},
   "outputs": [],
   "source": [
    "import numpy as np\n",
    "import pandas as pd\n",
    "import matplotlib.pyplot as plt\n",
    "import seaborn as sns\n",
    "%matplotlib inline"
   ]
  },
  {
   "cell_type": "code",
   "execution_count": 3,
   "metadata": {},
   "outputs": [],
   "source": [
    "from sklearn.svm import SVC\n",
    "from sklearn.naive_bayes import GaussianNB\n",
    "from sklearn.preprocessing import OneHotEncoder\n",
    "from sklearn.metrics import confusion_matrix, classification_report\n",
    "from sklearn.pipeline import make_pipeline\n",
    "from sklearn.model_selection import train_test_split\n",
    "from sklearn.multioutput import MultiOutputClassifier"
   ]
  },
  {
   "cell_type": "code",
   "execution_count": 4,
   "metadata": {},
   "outputs": [],
   "source": [
    "data = pd.read_csv('brands.csv') #READ DATA"
   ]
  },
  {
   "cell_type": "code",
   "execution_count": 5,
   "metadata": {},
   "outputs": [
    {
     "name": "stdout",
     "output_type": "stream",
     "text": [
      "<class 'pandas.core.frame.DataFrame'>\n",
      "RangeIndex: 2072 entries, 0 to 2071\n",
      "Data columns (total 3 columns):\n",
      " #   Column    Non-Null Count  Dtype \n",
      "---  ------    --------------  ----- \n",
      " 0   Brand     2072 non-null   object\n",
      " 1   Model     2071 non-null   object\n",
      " 2   Category  2072 non-null   object\n",
      "dtypes: object(3)\n",
      "memory usage: 48.7+ KB\n"
     ]
    }
   ],
   "source": [
    "data.info()"
   ]
  },
  {
   "cell_type": "code",
   "execution_count": 6,
   "metadata": {},
   "outputs": [],
   "source": [
    "data.dropna(inplace=True) #DROP EMPTRY CELLS"
   ]
  },
  {
   "cell_type": "code",
   "execution_count": 7,
   "metadata": {
    "scrolled": true
   },
   "outputs": [
    {
     "name": "stdout",
     "output_type": "stream",
     "text": [
      "<class 'pandas.core.frame.DataFrame'>\n",
      "Int64Index: 2071 entries, 0 to 2071\n",
      "Data columns (total 3 columns):\n",
      " #   Column    Non-Null Count  Dtype \n",
      "---  ------    --------------  ----- \n",
      " 0   Brand     2071 non-null   object\n",
      " 1   Model     2071 non-null   object\n",
      " 2   Category  2071 non-null   object\n",
      "dtypes: object(3)\n",
      "memory usage: 64.7+ KB\n"
     ]
    }
   ],
   "source": [
    "data.info()"
   ]
  },
  {
   "cell_type": "code",
   "execution_count": 8,
   "metadata": {},
   "outputs": [
    {
     "data": {
      "text/plain": [
       "Index(['Brand', 'Model', 'Category'], dtype='object')"
      ]
     },
     "execution_count": 8,
     "metadata": {},
     "output_type": "execute_result"
    }
   ],
   "source": [
    "data.columns"
   ]
  },
  {
   "cell_type": "code",
   "execution_count": 9,
   "metadata": {},
   "outputs": [
    {
     "data": {
      "text/plain": [
       "array(['coupes', 'sedans', 'SUVs', 'Avant', 'hatchbacks', 'convertibles',\n",
       "       'limousines', 'shooting', 'minivans', 'roadsters', 'fastbacks',\n",
       "       'touring', 'station', 'microvans', 'hardtop', 'Popemobiles',\n",
       "       'Roadster', 'K-Cars', 'vans', 'Targa', 'pickup'], dtype=object)"
      ]
     },
     "execution_count": 9,
     "metadata": {},
     "output_type": "execute_result"
    }
   ],
   "source": [
    "data.Category.unique()"
   ]
  },
  {
   "cell_type": "code",
   "execution_count": 10,
   "metadata": {},
   "outputs": [],
   "source": [
    "data.drop(data[data['Category'] == 'Popemobiles'].index, inplace=True)\n",
    "data.drop(data[data['Category'] == 'K-Cars'].index, inplace=True)\n",
    "data.drop(data[data['Category'] == 'microvans'].index, inplace=True)\n",
    "data.drop(data[data['Category'] == 'touring'].index, inplace=True)"
   ]
  },
  {
   "cell_type": "code",
   "execution_count": 11,
   "metadata": {},
   "outputs": [
    {
     "data": {
      "text/plain": [
       "array(['coupes', 'sedans', 'SUVs', 'Avant', 'hatchbacks', 'convertibles',\n",
       "       'limousines', 'shooting', 'minivans', 'roadsters', 'fastbacks',\n",
       "       'station', 'hardtop', 'Roadster', 'vans', 'Targa', 'pickup'],\n",
       "      dtype=object)"
      ]
     },
     "execution_count": 11,
     "metadata": {},
     "output_type": "execute_result"
    }
   ],
   "source": [
    "data.Category.unique()"
   ]
  },
  {
   "cell_type": "code",
   "execution_count": 12,
   "metadata": {},
   "outputs": [
    {
     "name": "stdout",
     "output_type": "stream",
     "text": [
      "<class 'pandas.core.frame.DataFrame'>\n",
      "Int64Index: 1969 entries, 0 to 2071\n",
      "Data columns (total 3 columns):\n",
      " #   Column    Non-Null Count  Dtype \n",
      "---  ------    --------------  ----- \n",
      " 0   Brand     1969 non-null   object\n",
      " 1   Model     1969 non-null   object\n",
      " 2   Category  1969 non-null   object\n",
      "dtypes: object(3)\n",
      "memory usage: 61.5+ KB\n"
     ]
    }
   ],
   "source": [
    "data.info()"
   ]
  },
  {
   "cell_type": "code",
   "execution_count": 13,
   "metadata": {},
   "outputs": [],
   "source": [
    "category = {'sedans': 'NON-OFFROADER', 'limousines': 'NON-OFFROADER', 'SUVs' : 'OFFROADER', 'pickup':'OFFROADER', 'fastbacks': 'NON-OFFROADER', 'Targa': 'NON-OFFROADER',\n",
    "            'station':'NON-OFFROADER', 'Avant': 'NON-OFFROADER','shooting':'NON-OFFROADER', 'coupes': 'NON-OFFROADER', 'hatchbacks' : 'NON-OFFROADER', 'convertibles': 'NON-OFFROADER',\n",
    "            'minivans': 'NON-OFFROADER', 'roadsters': 'NON-OFFROADER','hardtop': 'NON-OFFROADER', 'Roadster': 'NON-OFFROADER', 'vans': 'NON-OFFROADER'}\n",
    "data['New_Category'] = data['Category'].map(category)"
   ]
  },
  {
   "cell_type": "code",
   "execution_count": 14,
   "metadata": {},
   "outputs": [
    {
     "data": {
      "text/plain": [
       "array(['NON-OFFROADER', 'OFFROADER'], dtype=object)"
      ]
     },
     "execution_count": 14,
     "metadata": {},
     "output_type": "execute_result"
    }
   ],
   "source": [
    "data.New_Category.unique()"
   ]
  },
  {
   "cell_type": "code",
   "execution_count": 15,
   "metadata": {},
   "outputs": [
    {
     "data": {
      "text/html": [
       "<div>\n",
       "<style scoped>\n",
       "    .dataframe tbody tr th:only-of-type {\n",
       "        vertical-align: middle;\n",
       "    }\n",
       "\n",
       "    .dataframe tbody tr th {\n",
       "        vertical-align: top;\n",
       "    }\n",
       "\n",
       "    .dataframe thead th {\n",
       "        text-align: right;\n",
       "    }\n",
       "</style>\n",
       "<table border=\"1\" class=\"dataframe\">\n",
       "  <thead>\n",
       "    <tr style=\"text-align: right;\">\n",
       "      <th></th>\n",
       "      <th>Brand</th>\n",
       "      <th>Model</th>\n",
       "      <th>Category</th>\n",
       "      <th>New_Category</th>\n",
       "    </tr>\n",
       "  </thead>\n",
       "  <tbody>\n",
       "    <tr>\n",
       "      <th>0</th>\n",
       "      <td>Acura</td>\n",
       "      <td>CL</td>\n",
       "      <td>coupes</td>\n",
       "      <td>NON-OFFROADER</td>\n",
       "    </tr>\n",
       "    <tr>\n",
       "      <th>1</th>\n",
       "      <td>Acura</td>\n",
       "      <td>Legend coupe</td>\n",
       "      <td>coupes</td>\n",
       "      <td>NON-OFFROADER</td>\n",
       "    </tr>\n",
       "    <tr>\n",
       "      <th>2</th>\n",
       "      <td>Acura</td>\n",
       "      <td>NSX</td>\n",
       "      <td>coupes</td>\n",
       "      <td>NON-OFFROADER</td>\n",
       "    </tr>\n",
       "    <tr>\n",
       "      <th>3</th>\n",
       "      <td>Acura</td>\n",
       "      <td>RSX</td>\n",
       "      <td>coupes</td>\n",
       "      <td>NON-OFFROADER</td>\n",
       "    </tr>\n",
       "    <tr>\n",
       "      <th>4</th>\n",
       "      <td>Acura</td>\n",
       "      <td>CSX</td>\n",
       "      <td>sedans</td>\n",
       "      <td>NON-OFFROADER</td>\n",
       "    </tr>\n",
       "    <tr>\n",
       "      <th>5</th>\n",
       "      <td>Acura</td>\n",
       "      <td>EL</td>\n",
       "      <td>sedans</td>\n",
       "      <td>NON-OFFROADER</td>\n",
       "    </tr>\n",
       "    <tr>\n",
       "      <th>6</th>\n",
       "      <td>Acura</td>\n",
       "      <td>ILX</td>\n",
       "      <td>sedans</td>\n",
       "      <td>NON-OFFROADER</td>\n",
       "    </tr>\n",
       "    <tr>\n",
       "      <th>7</th>\n",
       "      <td>Acura</td>\n",
       "      <td>RL</td>\n",
       "      <td>sedans</td>\n",
       "      <td>NON-OFFROADER</td>\n",
       "    </tr>\n",
       "    <tr>\n",
       "      <th>8</th>\n",
       "      <td>Acura</td>\n",
       "      <td>RLX</td>\n",
       "      <td>sedans</td>\n",
       "      <td>NON-OFFROADER</td>\n",
       "    </tr>\n",
       "    <tr>\n",
       "      <th>9</th>\n",
       "      <td>Acura</td>\n",
       "      <td>TL</td>\n",
       "      <td>sedans</td>\n",
       "      <td>NON-OFFROADER</td>\n",
       "    </tr>\n",
       "  </tbody>\n",
       "</table>\n",
       "</div>"
      ],
      "text/plain": [
       "   Brand         Model Category   New_Category\n",
       "0  Acura            CL   coupes  NON-OFFROADER\n",
       "1  Acura  Legend coupe   coupes  NON-OFFROADER\n",
       "2  Acura           NSX   coupes  NON-OFFROADER\n",
       "3  Acura           RSX   coupes  NON-OFFROADER\n",
       "4  Acura           CSX   sedans  NON-OFFROADER\n",
       "5  Acura            EL   sedans  NON-OFFROADER\n",
       "6  Acura           ILX   sedans  NON-OFFROADER\n",
       "7  Acura            RL   sedans  NON-OFFROADER\n",
       "8  Acura           RLX   sedans  NON-OFFROADER\n",
       "9  Acura            TL   sedans  NON-OFFROADER"
      ]
     },
     "execution_count": 15,
     "metadata": {},
     "output_type": "execute_result"
    }
   ],
   "source": [
    "data.head(10)"
   ]
  },
  {
   "cell_type": "code",
   "execution_count": 16,
   "metadata": {},
   "outputs": [],
   "source": [
    "# IMPORT LIBRARIES REQUIRED FROM SVC CLASSFICATION"
   ]
  },
  {
   "cell_type": "code",
   "execution_count": 17,
   "metadata": {},
   "outputs": [],
   "source": [
    "X = data.drop(['Category','New_Category'], axis=1)\n",
    "y=data['New_Category']"
   ]
  },
  {
   "cell_type": "code",
   "execution_count": 18,
   "metadata": {},
   "outputs": [],
   "source": [
    "X_train, X_test, y_train, y_test = train_test_split(X, y, test_size = 0.3, random_state = 101)"
   ]
  },
  {
   "cell_type": "code",
   "execution_count": 19,
   "metadata": {},
   "outputs": [],
   "source": [
    "svc_model=make_pipeline(OneHotEncoder(handle_unknown='ignore'), SVC())"
   ]
  },
  {
   "cell_type": "code",
   "execution_count": 20,
   "metadata": {},
   "outputs": [
    {
     "data": {
      "text/plain": [
       "Pipeline(steps=[('onehotencoder', OneHotEncoder(handle_unknown='ignore')),\n",
       "                ('svc', SVC())])"
      ]
     },
     "execution_count": 20,
     "metadata": {},
     "output_type": "execute_result"
    }
   ],
   "source": [
    "svc_model.fit(X_train, y_train)"
   ]
  },
  {
   "cell_type": "code",
   "execution_count": 21,
   "metadata": {},
   "outputs": [],
   "source": [
    "svc_model_pred = svc_model.predict(X_test)"
   ]
  },
  {
   "cell_type": "code",
   "execution_count": 22,
   "metadata": {},
   "outputs": [
    {
     "name": "stdout",
     "output_type": "stream",
     "text": [
      "[[506   2]\n",
      " [ 82   1]]\n",
      "/n\n",
      "               precision    recall  f1-score   support\n",
      "\n",
      "NON-OFFROADER       0.86      1.00      0.92       508\n",
      "    OFFROADER       0.33      0.01      0.02        83\n",
      "\n",
      "     accuracy                           0.86       591\n",
      "    macro avg       0.60      0.50      0.47       591\n",
      " weighted avg       0.79      0.86      0.80       591\n",
      "\n"
     ]
    }
   ],
   "source": [
    "print(confusion_matrix(y_test, svc_model_pred))\n",
    "print('/n')\n",
    "print(classification_report(y_test, svc_model_pred))"
   ]
  },
  {
   "cell_type": "code",
   "execution_count": 23,
   "metadata": {},
   "outputs": [],
   "source": [
    "from sklearn.linear_model import LogisticRegression\n",
    "\n",
    "lr_model = make_pipeline(OneHotEncoder(handle_unknown='ignore'), LogisticRegression())"
   ]
  },
  {
   "cell_type": "code",
   "execution_count": 24,
   "metadata": {},
   "outputs": [
    {
     "data": {
      "text/plain": [
       "Pipeline(steps=[('onehotencoder', OneHotEncoder(handle_unknown='ignore')),\n",
       "                ('logisticregression', LogisticRegression())])"
      ]
     },
     "execution_count": 24,
     "metadata": {},
     "output_type": "execute_result"
    }
   ],
   "source": [
    "lr_model.fit(X_train, y_train)"
   ]
  },
  {
   "cell_type": "code",
   "execution_count": 25,
   "metadata": {},
   "outputs": [],
   "source": [
    "lr_model_pred = lr_model.predict(X_test)"
   ]
  },
  {
   "cell_type": "code",
   "execution_count": 26,
   "metadata": {},
   "outputs": [
    {
     "name": "stdout",
     "output_type": "stream",
     "text": [
      "[[506   2]\n",
      " [ 82   1]]\n",
      "/n\n",
      "               precision    recall  f1-score   support\n",
      "\n",
      "NON-OFFROADER       0.86      1.00      0.92       508\n",
      "    OFFROADER       0.33      0.01      0.02        83\n",
      "\n",
      "     accuracy                           0.86       591\n",
      "    macro avg       0.60      0.50      0.47       591\n",
      " weighted avg       0.79      0.86      0.80       591\n",
      "\n"
     ]
    }
   ],
   "source": [
    "#Printing the performance of the model:\n",
    "print(confusion_matrix(y_test, lr_model_pred))\n",
    "print('/n')\n",
    "print(classification_report(y_test, lr_model_pred))"
   ]
  },
  {
   "cell_type": "code",
   "execution_count": 27,
   "metadata": {},
   "outputs": [],
   "source": [
    "from sklearn.neighbors import KNeighborsClassifier\n",
    "\n",
    "knc_model = make_pipeline(OneHotEncoder(handle_unknown='ignore'), KNeighborsClassifier())"
   ]
  },
  {
   "cell_type": "code",
   "execution_count": 28,
   "metadata": {
    "scrolled": true
   },
   "outputs": [
    {
     "data": {
      "text/plain": [
       "Pipeline(steps=[('onehotencoder', OneHotEncoder(handle_unknown='ignore')),\n",
       "                ('kneighborsclassifier', KNeighborsClassifier())])"
      ]
     },
     "execution_count": 28,
     "metadata": {},
     "output_type": "execute_result"
    }
   ],
   "source": [
    "knc_model.fit(X_train, y_train)"
   ]
  },
  {
   "cell_type": "code",
   "execution_count": 29,
   "metadata": {},
   "outputs": [],
   "source": [
    "knc_model_pred = knc_model.predict(X_test)"
   ]
  },
  {
   "cell_type": "code",
   "execution_count": 30,
   "metadata": {},
   "outputs": [
    {
     "name": "stdout",
     "output_type": "stream",
     "text": [
      "[[493  15]\n",
      " [ 77   6]]\n",
      "/n\n",
      "               precision    recall  f1-score   support\n",
      "\n",
      "NON-OFFROADER       0.86      0.97      0.91       508\n",
      "    OFFROADER       0.29      0.07      0.12        83\n",
      "\n",
      "     accuracy                           0.84       591\n",
      "    macro avg       0.58      0.52      0.52       591\n",
      " weighted avg       0.78      0.84      0.80       591\n",
      "\n"
     ]
    }
   ],
   "source": [
    "#Printing the performance of the model:\n",
    "print(confusion_matrix(y_test, knc_model_pred))\n",
    "print('/n')\n",
    "print(classification_report(y_test, knc_model_pred))"
   ]
  },
  {
   "cell_type": "code",
   "execution_count": 31,
   "metadata": {},
   "outputs": [],
   "source": [
    "from sklearn.ensemble import RandomForestClassifier\n",
    "\n",
    "rfc_model = make_pipeline(OneHotEncoder(handle_unknown='ignore'), RandomForestClassifier())"
   ]
  },
  {
   "cell_type": "code",
   "execution_count": 32,
   "metadata": {},
   "outputs": [
    {
     "data": {
      "text/plain": [
       "Pipeline(steps=[('onehotencoder', OneHotEncoder(handle_unknown='ignore')),\n",
       "                ('randomforestclassifier', RandomForestClassifier())])"
      ]
     },
     "execution_count": 32,
     "metadata": {},
     "output_type": "execute_result"
    }
   ],
   "source": [
    "rfc_model.fit(X_train, y_train)"
   ]
  },
  {
   "cell_type": "code",
   "execution_count": 33,
   "metadata": {},
   "outputs": [],
   "source": [
    "rfc_model_pred = rfc_model.predict(X_test)"
   ]
  },
  {
   "cell_type": "code",
   "execution_count": 34,
   "metadata": {},
   "outputs": [
    {
     "name": "stdout",
     "output_type": "stream",
     "text": [
      "[[506   2]\n",
      " [ 82   1]]\n",
      "/n\n",
      "               precision    recall  f1-score   support\n",
      "\n",
      "NON-OFFROADER       0.86      1.00      0.92       508\n",
      "    OFFROADER       0.33      0.01      0.02        83\n",
      "\n",
      "     accuracy                           0.86       591\n",
      "    macro avg       0.60      0.50      0.47       591\n",
      " weighted avg       0.79      0.86      0.80       591\n",
      "\n"
     ]
    }
   ],
   "source": [
    "#Printing the performance of the model:\n",
    "print(confusion_matrix(y_test, rfc_model_pred))\n",
    "print('/n')\n",
    "print(classification_report(y_test, rfc_model_pred))"
   ]
  },
  {
   "cell_type": "code",
   "execution_count": 35,
   "metadata": {},
   "outputs": [
    {
     "data": {
      "text/plain": [
       "array(['NON-OFFROADER'], dtype=object)"
      ]
     },
     "execution_count": 35,
     "metadata": {},
     "output_type": "execute_result"
    }
   ],
   "source": [
    "rfc_model.predict([['BWM', '520i']])"
   ]
  }
 ],
 "metadata": {
  "kernelspec": {
   "display_name": "Python 3",
   "language": "python",
   "name": "python3"
  },
  "language_info": {
   "codemirror_mode": {
    "name": "ipython",
    "version": 3
   },
   "file_extension": ".py",
   "mimetype": "text/x-python",
   "name": "python",
   "nbconvert_exporter": "python",
   "pygments_lexer": "ipython3",
   "version": "3.8.3"
  }
 },
 "nbformat": 4,
 "nbformat_minor": 4
}

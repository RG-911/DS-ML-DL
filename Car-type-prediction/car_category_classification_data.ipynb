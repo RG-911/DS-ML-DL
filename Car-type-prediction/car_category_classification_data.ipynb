{
 "cells": [
  {
   "cell_type": "code",
   "execution_count": 1,
   "metadata": {},
   "outputs": [],
   "source": [
    "from bs4 import BeautifulSoup\n",
    "from requests import get\n",
    "import pandas as pd"
   ]
  },
  {
   "cell_type": "code",
   "execution_count": 2,
   "metadata": {
    "scrolled": true
   },
   "outputs": [],
   "source": [
    "headers = ({'User-Agent':\n",
    "            'Mozilla/5.0 (Macintosh; Intel Mac OS X 10_11_6) AppleWebKit\\\n",
    "            /537.36 (KHTML, like Gecko) Chrome/56.0.2924.87 Safari/537.36'})\n",
    "data = []\n",
    "base_url = \"https://commons.wikimedia.org/wiki/Category:Automobiles_by_brand_by_body_style\"\n",
    "response = get(base_url,headers=headers)\n",
    "html = response.text\n",
    "soup = BeautifulSoup(html, 'html.parser')\n",
    "data.append(soup.find_all('a'))\n",
    "#print(data)\n",
    "#print(len(data[0]))"
   ]
  },
  {
   "cell_type": "code",
   "execution_count": 3,
   "metadata": {},
   "outputs": [],
   "source": [
    "infos = []\n",
    "for info in data[0]:\n",
    "    infos.append(info.text)\n",
    "\n",
    "brands = []\n",
    "for brand in infos:\n",
    "    if \"by body style\" in brand:\n",
    "        brands.append(brand.split()[:2])\n",
    "\n",
    "for br in brands:\n",
    "    if 'automobiles' in br:\n",
    "        br.remove('automobiles')\n",
    "\n",
    "manufacturer = []\n",
    "for el in brands:\n",
    "    if len(el) == 2:\n",
    "        el = el[0]+ \" \"+ el[1]\n",
    "        manufacturer.append(el)\n",
    "    else:\n",
    "        for item in el:\n",
    "            manufacturer.append(item)\n",
    "#print(manufacturer)\n",
    "#print(len(manufacturer))"
   ]
  },
  {
   "cell_type": "code",
   "execution_count": 4,
   "metadata": {
    "scrolled": true
   },
   "outputs": [],
   "source": [
    "headers = ({'User-Agent':\n",
    "            'Mozilla/5.0 (Macintosh; Intel Mac OS X 10_11_6) AppleWebKit\\\n",
    "            /537.36 (KHTML, like Gecko) Chrome/56.0.2924.87 Safari/537.36'})\n",
    "style = []\n",
    "for car in manufacturer:\n",
    "    base_url = \"https://commons.wikimedia.org/wiki/Category:\" + car + \"_automobiles_by_body_style\"\n",
    "    response = get(base_url,headers=headers)\n",
    "    html = response.text\n",
    "    soup = BeautifulSoup(html, 'html.parser')\n",
    "    style.append(soup.find_all('a'))\n",
    "#print(style)"
   ]
  },
  {
   "cell_type": "code",
   "execution_count": 5,
   "metadata": {},
   "outputs": [],
   "source": [
    "elem = []\n",
    "for i in style:\n",
    "    for el in i:\n",
    "        elem.append(el.text.split())\n",
    "#print(elem)\n"
   ]
  },
  {
   "cell_type": "code",
   "execution_count": 6,
   "metadata": {},
   "outputs": [],
   "source": [
    "category = []\n",
    "for st in elem:\n",
    "    if len(st)>0:\n",
    "        if st[0] in manufacturer:\n",
    "            if 'automobiles' not in st and 'vehicles' not in st and \"by\" not in st:\n",
    "                if len(st)>2:\n",
    "                    ct = st[0] + \"_\"+ st[1] + \"_\"+st[2]\n",
    "                    category.append(ct)\n",
    "                else:\n",
    "                    ct = st[0] + \"_\"+ st[1]\n",
    "                    category.append(ct) \n",
    "#print(category)"
   ]
  },
  {
   "cell_type": "code",
   "execution_count": 7,
   "metadata": {},
   "outputs": [],
   "source": [
    "headers = ({'User-Agent':\n",
    "            'Mozilla/5.0 (Macintosh; Intel Mac OS X 10_11_6) AppleWebKit\\\n",
    "            /537.36 (KHTML, like Gecko) Chrome/56.0.2924.87 Safari/537.36'})\n",
    "general = []\n",
    "for ctr in category:\n",
    "    base_url = \"https://commons.wikimedia.org/wiki/Category:\" + ctr\n",
    "    response = get(base_url,headers=headers)\n",
    "    html = response.text\n",
    "    soup = BeautifulSoup(html, 'html.parser')\n",
    "    gnrl = soup.find_all('a')\n",
    "    for g in gnrl:\n",
    "        if len(g) !=0:\n",
    "            g_i = g.text + \" \" + ctr.split(\"_\")[1]\n",
    "            general.append(g_i)\n",
    "#print(general)"
   ]
  },
  {
   "cell_type": "code",
   "execution_count": 8,
   "metadata": {},
   "outputs": [],
   "source": [
    "general_info = []\n",
    "\n",
    "for d in general:\n",
    "    if \"jpg\" not in d and \"automobiles\" not in d and \"by\" not in d:\n",
    "        general_info.append(d.split())\n",
    "        \n",
    "#print(general_info)"
   ]
  },
  {
   "cell_type": "code",
   "execution_count": 9,
   "metadata": {},
   "outputs": [],
   "source": [
    "full_list = []\n",
    "for e in general_info:\n",
    "    if(len(e))>0:\n",
    "        if e[0] in manufacturer:\n",
    "            if 'automobiles' not in e and 'by' not in e:\n",
    "                full_list.append(e)\n",
    "            elif \".jpg\" not in e:\n",
    "                full_list.append(e)\n",
    "#print(full_list)"
   ]
  },
  {
   "cell_type": "code",
   "execution_count": 10,
   "metadata": {},
   "outputs": [
    {
     "data": {
      "text/plain": [
       "'\\nprint(len(manf))\\nprint(len(model))\\nprint(len(body_type))\\nprint(manf)\\nprint(model)\\nprint(body_type)\\n'"
      ]
     },
     "execution_count": 10,
     "metadata": {},
     "output_type": "execute_result"
    }
   ],
   "source": [
    "manf = []\n",
    "model = []\n",
    "body_type = []\n",
    "types = []\n",
    "\n",
    "for type in category:\n",
    "#l = len(type.split('_'))\n",
    "    types.append(type.split('_')[1])\n",
    "\n",
    "types=list(dict.fromkeys(types))   # remove duplicates\n",
    "\n",
    "for car in full_list:\n",
    "    manf.append(car[0])\n",
    "    body_type.append(car[-1])\n",
    "    model.append(\" \".join(car[1:len(car)-1]))\n",
    "\n",
    "for n, mdl in enumerate(manf):\n",
    "    if mdl == \"Škoda\":\n",
    "        manf[n] = \"Skoda\"\n",
    "    elif mdl == \"Citroën\":\n",
    "        manf[n] = \"Skoda\"\n",
    "\n",
    "'''\n",
    "print(len(manf))\n",
    "print(len(model))\n",
    "print(len(body_type))\n",
    "print(manf)\n",
    "print(model)\n",
    "print(body_type)\n",
    "'''"
   ]
  },
  {
   "cell_type": "code",
   "execution_count": 11,
   "metadata": {},
   "outputs": [],
   "source": [
    "data_1 = pd.DataFrame({'Brand': manf, 'Model': model, \"Category\": body_type})"
   ]
  },
  {
   "cell_type": "code",
   "execution_count": 12,
   "metadata": {},
   "outputs": [
    {
     "name": "stdout",
     "output_type": "stream",
     "text": [
      "<class 'pandas.core.frame.DataFrame'>\n",
      "RangeIndex: 2076 entries, 0 to 2075\n",
      "Data columns (total 3 columns):\n",
      " #   Column    Non-Null Count  Dtype \n",
      "---  ------    --------------  ----- \n",
      " 0   Brand     2076 non-null   object\n",
      " 1   Model     2076 non-null   object\n",
      " 2   Category  2076 non-null   object\n",
      "dtypes: object(3)\n",
      "memory usage: 48.8+ KB\n"
     ]
    }
   ],
   "source": [
    "data_1.info()"
   ]
  },
  {
   "cell_type": "code",
   "execution_count": 13,
   "metadata": {},
   "outputs": [
    {
     "data": {
      "text/html": [
       "<div>\n",
       "<style scoped>\n",
       "    .dataframe tbody tr th:only-of-type {\n",
       "        vertical-align: middle;\n",
       "    }\n",
       "\n",
       "    .dataframe tbody tr th {\n",
       "        vertical-align: top;\n",
       "    }\n",
       "\n",
       "    .dataframe thead th {\n",
       "        text-align: right;\n",
       "    }\n",
       "</style>\n",
       "<table border=\"1\" class=\"dataframe\">\n",
       "  <thead>\n",
       "    <tr style=\"text-align: right;\">\n",
       "      <th></th>\n",
       "      <th>Brand</th>\n",
       "      <th>Model</th>\n",
       "      <th>Category</th>\n",
       "    </tr>\n",
       "  </thead>\n",
       "  <tbody>\n",
       "    <tr>\n",
       "      <th>count</th>\n",
       "      <td>2076</td>\n",
       "      <td>2076</td>\n",
       "      <td>2076</td>\n",
       "    </tr>\n",
       "    <tr>\n",
       "      <th>unique</th>\n",
       "      <td>48</td>\n",
       "      <td>2003</td>\n",
       "      <td>21</td>\n",
       "    </tr>\n",
       "    <tr>\n",
       "      <th>top</th>\n",
       "      <td>Toyota</td>\n",
       "      <td>stretch limousines</td>\n",
       "      <td>sedans</td>\n",
       "    </tr>\n",
       "    <tr>\n",
       "      <th>freq</th>\n",
       "      <td>240</td>\n",
       "      <td>5</td>\n",
       "      <td>422</td>\n",
       "    </tr>\n",
       "  </tbody>\n",
       "</table>\n",
       "</div>"
      ],
      "text/plain": [
       "         Brand               Model Category\n",
       "count     2076                2076     2076\n",
       "unique      48                2003       21\n",
       "top     Toyota  stretch limousines   sedans\n",
       "freq       240                   5      422"
      ]
     },
     "execution_count": 13,
     "metadata": {},
     "output_type": "execute_result"
    }
   ],
   "source": [
    "data_1.describe()"
   ]
  },
  {
   "cell_type": "code",
   "execution_count": 14,
   "metadata": {},
   "outputs": [],
   "source": [
    "data_1.to_csv('brands_1.csv', index=False)"
   ]
  },
  {
   "cell_type": "code",
   "execution_count": null,
   "metadata": {},
   "outputs": [],
   "source": []
  }
 ],
 "metadata": {
  "kernelspec": {
   "display_name": "Python 3",
   "language": "python",
   "name": "python3"
  },
  "language_info": {
   "codemirror_mode": {
    "name": "ipython",
    "version": 3
   },
   "file_extension": ".py",
   "mimetype": "text/x-python",
   "name": "python",
   "nbconvert_exporter": "python",
   "pygments_lexer": "ipython3",
   "version": "3.8.3"
  }
 },
 "nbformat": 4,
 "nbformat_minor": 4
}
